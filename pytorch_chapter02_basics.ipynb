{
 "cells": [
  {
   "cell_type": "markdown",
   "metadata": {},
   "source": [
    "## Pytorch: the first step"
   ]
  },
  {
   "cell_type": "markdown",
   "metadata": {},
   "source": [
    "#### Tensor\n",
    "Tensor 是 PyTorch 的重要数据结构，可以认为是一个高维数组。可以是一个数，一个向量，二维数组（矩阵）以及更高维数组。\n",
    "Tensor 和 numpy 的 ndarrays 类似，但 tensor 可以用 GPU 加速。  \n",
    "Tensor 和 numpy 对象共享内存。"
   ]
  },
  {
   "cell_type": "code",
   "execution_count": 1,
   "metadata": {},
   "outputs": [],
   "source": [
    "from __future__ import print_function\n",
    "import torch as t\n",
    "import numpy as np"
   ]
  },
  {
   "cell_type": "code",
   "execution_count": 2,
   "metadata": {},
   "outputs": [
    {
     "data": {
      "text/plain": [
       "tensor([[ 0.3026,  0.7303,  0.2506],\n",
       "        [ 0.1966,  0.9855,  0.2348],\n",
       "        [ 0.2873,  0.8586,  0.2382],\n",
       "        [ 0.4649,  0.8338,  0.2562],\n",
       "        [ 0.8773,  0.7721,  0.9991]])"
      ]
     },
     "execution_count": 2,
     "metadata": {},
     "output_type": "execute_result"
    }
   ],
   "source": [
    "x = t.rand(5, 3)\n",
    "x"
   ]
  },
  {
   "cell_type": "code",
   "execution_count": 9,
   "metadata": {},
   "outputs": [
    {
     "data": {
      "text/plain": [
       "tensor([[ 0.4682,  0.7158,  0.6031],\n",
       "        [ 0.1859,  0.0121,  0.6442],\n",
       "        [ 0.2798,  0.1105,  0.8446],\n",
       "        [ 0.8565,  0.6849,  0.6344],\n",
       "        [ 0.2049,  0.2588,  0.9860]])"
      ]
     },
     "execution_count": 9,
     "metadata": {},
     "output_type": "execute_result"
    }
   ],
   "source": [
    "y = t.rand(5,3)\n",
    "y"
   ]
  },
  {
   "cell_type": "code",
   "execution_count": 4,
   "metadata": {},
   "outputs": [
    {
     "data": {
      "text/plain": [
       "tensor([[ 1.1845,  1.6431,  0.6547],\n",
       "        [ 0.7138,  1.5808,  0.7633],\n",
       "        [ 0.7496,  1.2076,  0.7869],\n",
       "        [ 1.1829,  1.0215,  0.9940],\n",
       "        [ 1.7091,  1.4431,  1.4436]])"
      ]
     },
     "execution_count": 4,
     "metadata": {},
     "output_type": "execute_result"
    }
   ],
   "source": [
    "x + y"
   ]
  },
  {
   "cell_type": "code",
   "execution_count": 5,
   "metadata": {},
   "outputs": [
    {
     "data": {
      "text/plain": [
       "tensor([[ 1.1845,  1.6431,  0.6547],\n",
       "        [ 0.7138,  1.5808,  0.7633],\n",
       "        [ 0.7496,  1.2076,  0.7869],\n",
       "        [ 1.1829,  1.0215,  0.9940],\n",
       "        [ 1.7091,  1.4431,  1.4436]])"
      ]
     },
     "execution_count": 5,
     "metadata": {},
     "output_type": "execute_result"
    }
   ],
   "source": [
    "t.add(x,y)"
   ]
  },
  {
   "cell_type": "code",
   "execution_count": 6,
   "metadata": {},
   "outputs": [
    {
     "data": {
      "text/plain": [
       "tensor([[ 1.1845,  1.6431,  0.6547],\n",
       "        [ 0.7138,  1.5808,  0.7633],\n",
       "        [ 0.7496,  1.2076,  0.7869],\n",
       "        [ 1.1829,  1.0215,  0.9940],\n",
       "        [ 1.7091,  1.4431,  1.4436]])"
      ]
     },
     "execution_count": 6,
     "metadata": {},
     "output_type": "execute_result"
    }
   ],
   "source": [
    "result = t.Tensor(5,3)\n",
    "t.add(x,y,out=result)"
   ]
  },
  {
   "cell_type": "code",
   "execution_count": 7,
   "metadata": {},
   "outputs": [
    {
     "name": "stdout",
     "output_type": "stream",
     "text": [
      "tensor([[ 0.8819,  0.9128,  0.4041],\n",
      "        [ 0.5172,  0.5952,  0.5285],\n",
      "        [ 0.4624,  0.3490,  0.5487],\n",
      "        [ 0.7180,  0.1878,  0.7378],\n",
      "        [ 0.8318,  0.6710,  0.4446]])\n"
     ]
    }
   ],
   "source": [
    "y.add(x)\n",
    "print(y)"
   ]
  },
  {
   "cell_type": "code",
   "execution_count": 8,
   "metadata": {},
   "outputs": [
    {
     "name": "stdout",
     "output_type": "stream",
     "text": [
      "tensor([[ 1.1845,  1.6431,  0.6547],\n",
      "        [ 0.7138,  1.5808,  0.7633],\n",
      "        [ 0.7496,  1.2076,  0.7869],\n",
      "        [ 1.1829,  1.0215,  0.9940],\n",
      "        [ 1.7091,  1.4431,  1.4436]])\n"
     ]
    }
   ],
   "source": [
    "y.add_(x)\n",
    "print(y)"
   ]
  },
  {
   "cell_type": "code",
   "execution_count": 10,
   "metadata": {},
   "outputs": [
    {
     "data": {
      "text/plain": [
       "tensor([ 0.7303,  0.9855,  0.8586,  0.8338,  0.7721])"
      ]
     },
     "execution_count": 10,
     "metadata": {},
     "output_type": "execute_result"
    }
   ],
   "source": [
    "x[:,1]"
   ]
  },
  {
   "cell_type": "code",
   "execution_count": 11,
   "metadata": {},
   "outputs": [
    {
     "data": {
      "text/plain": [
       "tensor([ 1.,  1.,  1.,  1.,  1.])"
      ]
     },
     "execution_count": 11,
     "metadata": {},
     "output_type": "execute_result"
    }
   ],
   "source": [
    "a = t.ones(5)\n",
    "a"
   ]
  },
  {
   "cell_type": "code",
   "execution_count": 12,
   "metadata": {},
   "outputs": [
    {
     "data": {
      "text/plain": [
       "array([1., 1., 1., 1., 1.], dtype=float32)"
      ]
     },
     "execution_count": 12,
     "metadata": {},
     "output_type": "execute_result"
    }
   ],
   "source": [
    "b = a.numpy()\n",
    "b"
   ]
  },
  {
   "cell_type": "code",
   "execution_count": 13,
   "metadata": {},
   "outputs": [
    {
     "name": "stdout",
     "output_type": "stream",
     "text": [
      "tensor([ 1.,  1.,  1.,  1.,  1.], dtype=torch.float64)\n",
      "[1. 1. 1. 1. 1.]\n"
     ]
    }
   ],
   "source": [
    "a = np.ones(5)\n",
    "b = t.from_numpy(a)\n",
    "print(b)\n",
    "print(a)"
   ]
  },
  {
   "cell_type": "code",
   "execution_count": 14,
   "metadata": {},
   "outputs": [
    {
     "data": {
      "text/plain": [
       "tensor([ 2.,  2.,  2.,  2.,  2.], dtype=torch.float64)"
      ]
     },
     "execution_count": 14,
     "metadata": {},
     "output_type": "execute_result"
    }
   ],
   "source": [
    "b.add_(1)"
   ]
  },
  {
   "cell_type": "code",
   "execution_count": 15,
   "metadata": {},
   "outputs": [
    {
     "data": {
      "text/plain": [
       "True"
      ]
     },
     "execution_count": 15,
     "metadata": {},
     "output_type": "execute_result"
    }
   ],
   "source": [
    "t.cuda.is_available()"
   ]
  },
  {
   "cell_type": "markdown",
   "metadata": {},
   "source": [
    "#### Autograd 自动微分（不需要 Variable）\n",
    "Tensor 上的所有操作，autograd 都能为它们自动提供微分，避免手动计算导数的过程。  \n",
    "只要 tensor 的 requires_grad 设置为 True，都可以使用 .backward 进行反向传播，自动计算所有梯度。  \n",
    "三个属性：\n",
    "* data：保存 tensor\n",
    "* grad：保存 tensor 的梯度，grad 是个 Variable，形状和 data 一样\n",
    "* grad_fn：指向一个 function 对象，用来反向传播计算输入的梯度"
   ]
  },
  {
   "cell_type": "code",
   "execution_count": 16,
   "metadata": {},
   "outputs": [
    {
     "data": {
      "text/plain": [
       "tensor([[ 1.,  1.],\n",
       "        [ 1.,  1.]])"
      ]
     },
     "execution_count": 16,
     "metadata": {},
     "output_type": "execute_result"
    }
   ],
   "source": [
    "x = t.ones((2,2),requires_grad = True)\n",
    "x"
   ]
  },
  {
   "cell_type": "markdown",
   "metadata": {},
   "source": [
    "或者使用 `requires_grad_()` 让 autograd 知道要对 tensor 求导。  \n",
    "调用 `x.requires_grad` 来查看 x 是否能被求导。"
   ]
  },
  {
   "cell_type": "code",
   "execution_count": 39,
   "metadata": {},
   "outputs": [
    {
     "data": {
      "text/plain": [
       "True"
      ]
     },
     "execution_count": 39,
     "metadata": {},
     "output_type": "execute_result"
    }
   ],
   "source": [
    "x = t.ones(2,2)\n",
    "x.requires_grad_()\n",
    "x.requires_grad"
   ]
  },
  {
   "cell_type": "code",
   "execution_count": 40,
   "metadata": {},
   "outputs": [
    {
     "data": {
      "text/plain": [
       "tensor(4.)"
      ]
     },
     "execution_count": 40,
     "metadata": {},
     "output_type": "execute_result"
    }
   ],
   "source": [
    "y = x.sum()\n",
    "y"
   ]
  },
  {
   "cell_type": "code",
   "execution_count": 41,
   "metadata": {},
   "outputs": [
    {
     "data": {
      "text/plain": [
       "<SumBackward0 at 0x7f04479e7278>"
      ]
     },
     "execution_count": 41,
     "metadata": {},
     "output_type": "execute_result"
    }
   ],
   "source": [
    "y.grad_fn"
   ]
  },
  {
   "cell_type": "code",
   "execution_count": 42,
   "metadata": {},
   "outputs": [],
   "source": [
    "y.backward()"
   ]
  },
  {
   "cell_type": "code",
   "execution_count": 43,
   "metadata": {},
   "outputs": [
    {
     "data": {
      "text/plain": [
       "tensor([[ 1.,  1.],\n",
       "        [ 1.,  1.]])"
      ]
     },
     "execution_count": 43,
     "metadata": {},
     "output_type": "execute_result"
    }
   ],
   "source": [
    "x.grad"
   ]
  },
  {
   "cell_type": "code",
   "execution_count": 44,
   "metadata": {},
   "outputs": [
    {
     "data": {
      "text/plain": [
       "tensor([[ 0.,  0.],\n",
       "        [ 0.,  0.]])"
      ]
     },
     "execution_count": 44,
     "metadata": {},
     "output_type": "execute_result"
    }
   ],
   "source": [
    "x.grad.data.zero_()"
   ]
  },
  {
   "cell_type": "markdown",
   "metadata": {},
   "source": [
    "#### Neural network 神经网络\n",
    "Autograd 实现了反向传播，但直接用 autograd 写神经网络还是稍显复杂。torch.nn 是专为神经网络设计的模块化接口。  \n",
    "nn 构建在 autograd 之上，可用来定义和运行神经网络。  \n",
    "nn.Module 是其中最重要的类，可把它看成网络的封装，包含网络各层的定义和前向传播方法，调用 forward 方法，可以得到前向传播的结果。  \n",
    "下面以手写数字识别的 CNN 为例，来看看如何用 nn.Module 实现。"
   ]
  },
  {
   "cell_type": "code",
   "execution_count": 22,
   "metadata": {},
   "outputs": [
    {
     "name": "stdout",
     "output_type": "stream",
     "text": [
      "Net(\n",
      "  (conv1): Conv2d(1, 6, kernel_size=(5, 5), stride=(1, 1))\n",
      "  (conv2): Conv2d(6, 16, kernel_size=(5, 5), stride=(1, 1))\n",
      "  (fc1): Linear(in_features=400, out_features=120, bias=True)\n",
      "  (fc2): Linear(in_features=120, out_features=84, bias=True)\n",
      "  (fc3): Linear(in_features=84, out_features=10, bias=True)\n",
      ")\n"
     ]
    }
   ],
   "source": [
    "import torch.nn as nn\n",
    "import torch.nn.functional as F\n",
    "\n",
    "class Net(nn.Module):\n",
    "    def __init__(self):\n",
    "        super(Net,self).__init__()\n",
    "        \n",
    "        self.conv1 = nn.Conv2d(1,6,5) # channel = 1, filter_number = 6, kernel_size = 5\n",
    "        self.conv2 = nn.Conv2d(6,16,5)\n",
    "        self.fc1 = nn.Linear(16*5*5,120)\n",
    "        self.fc2 = nn.Linear(120,84)\n",
    "        self.fc3 = nn.Linear(84,10)\n",
    "        \n",
    "    def forward(self,x):\n",
    "        # 这些 function 也可以用层来实现\n",
    "        x = F.max_pool2d(F.relu(self.conv1(x)),2)\n",
    "        x = F.max_pool2d(F.relu(self.conv2(x)),2)\n",
    "        x = x.view(x.size()[0],-1)\n",
    "        x = F.relu(self.fc1(x))\n",
    "        x = F.relu(self.fc2(x))\n",
    "        x = self.fc3(x)\n",
    "        return x\n",
    "\n",
    "net = Net()\n",
    "print(net)"
   ]
  },
  {
   "cell_type": "markdown",
   "metadata": {},
   "source": [
    "只要 nn.Module 的子类中定义了 forward 函数，那么 backward 函数就会被自动实现。  \n",
    "在 forward 函数中可使用 print，log，if，for 循环等 Python 语法，写法和 Python 完全一样。  \n",
    "通过 net.named_parameters() 得到可学习的参数和名字"
   ]
  },
  {
   "cell_type": "code",
   "execution_count": 24,
   "metadata": {},
   "outputs": [
    {
     "name": "stdout",
     "output_type": "stream",
     "text": [
      "conv1.weight :  torch.Size([6, 1, 5, 5])\n",
      "conv1.bias :  torch.Size([6])\n",
      "conv2.weight :  torch.Size([16, 6, 5, 5])\n",
      "conv2.bias :  torch.Size([16])\n",
      "fc1.weight :  torch.Size([120, 400])\n",
      "fc1.bias :  torch.Size([120])\n",
      "fc2.weight :  torch.Size([84, 120])\n",
      "fc2.bias :  torch.Size([84])\n",
      "fc3.weight :  torch.Size([10, 84])\n",
      "fc3.bias :  torch.Size([10])\n"
     ]
    }
   ],
   "source": [
    "for name,param in net.named_parameters():\n",
    "    print(name,': ',param.size())"
   ]
  },
  {
   "cell_type": "markdown",
   "metadata": {},
   "source": [
    "（**更新：Variable 方法已经废弃**，定义 tensor 时声明 requires_grad = True 即可得到能求导的 Tensor）     \n",
    "需要注意，torch.nn 不支持一次只输入一个样本，只支持 mini-batches。如果只想输入一个样本，用 x.unsqueeze(0)将 batch_size 设为1.  \n",
    "比如, nn.Conv2d 的输入必须是4维的，形如 **nsamples\\*nchannles\\*height\\*width**，所以可将 nsamples 设为1"
   ]
  },
  {
   "cell_type": "code",
   "execution_count": 46,
   "metadata": {},
   "outputs": [
    {
     "data": {
      "text/plain": [
       "torch.Size([1, 10])"
      ]
     },
     "execution_count": 46,
     "metadata": {},
     "output_type": "execute_result"
    }
   ],
   "source": [
    "# 弃用 Variable，直接用 torch\n",
    "x = t.randn((1,1,32,32),requires_grad=True)\n",
    "out = net(x)\n",
    "out.size()"
   ]
  },
  {
   "cell_type": "markdown",
   "metadata": {},
   "source": [
    "#### 损失函数\n",
    "nn 实现了大多数损失函数，例如 nn.MSELoss, nn.CrossEntropyLoss"
   ]
  },
  {
   "cell_type": "code",
   "execution_count": 31,
   "metadata": {},
   "outputs": [
    {
     "data": {
      "text/plain": [
       "tensor(28.6988)"
      ]
     },
     "execution_count": 31,
     "metadata": {},
     "output_type": "execute_result"
    }
   ],
   "source": [
    "output = net(x)\n",
    "target = t.arange(0,10).reshape(1,10) # 注意要把 target 的尺寸排列成 output 一样\n",
    "criterion = nn.MSELoss()\n",
    "loss = criterion(output, target)\n",
    "loss"
   ]
  },
  {
   "cell_type": "markdown",
   "metadata": {},
   "source": [
    "下面我们来观察调用 .backward 后如何自动计算各个参数的梯度"
   ]
  },
  {
   "cell_type": "code",
   "execution_count": 32,
   "metadata": {},
   "outputs": [
    {
     "name": "stdout",
     "output_type": "stream",
     "text": [
      "反向传播前，conv1.bias 的梯度：\n",
      "None\n",
      "反向传播后，conv1.bias 的梯度：\n",
      "tensor(1.00000e-02 *\n",
      "       [ 8.1586,  2.4903,  5.0527, -7.0956,  2.5250,  1.1832])\n"
     ]
    }
   ],
   "source": [
    "net.zero_grad()\n",
    "print('反向传播前，conv1.bias 的梯度：')\n",
    "print(net.conv1.bias.grad)\n",
    "loss.backward()\n",
    "print('反向传播后，conv1.bias 的梯度：')\n",
    "print(net.conv1.bias.grad)"
   ]
  },
  {
   "cell_type": "markdown",
   "metadata": {},
   "source": [
    "#### 优化器\n",
    "反向传播计算完所有参数的梯度后，还需要使用优化算法来更新各个参数。例如随机梯度下降法（SGD）的方法如下：  \n",
    "> weight = weight - learning_rate\\*gradient  \n",
    "\n",
    "手动实现：  \n",
    "```python \n",
    "learning_rate = 0.01  \n",
    "for param in net.parameters():  \n",
    "    param.data.sub_(learning_rate * param.grad.data)  \n",
    "```\n",
    "torch.optim 实现了绝大多数优化方法，包括 RMSProp，Adam，SGD 等，更方便使用。"
   ]
  },
  {
   "cell_type": "code",
   "execution_count": 47,
   "metadata": {},
   "outputs": [],
   "source": [
    "import torch.optim as optim\n",
    "\n",
    "# 新建优化器，制定要优化的参数和学习率\n",
    "optimizer = optim.SGD(net.parameters(), lr = 0.01)\n",
    "\n",
    "# 清零梯度\n",
    "optimizer.zero_grad()\n",
    "\n",
    "# 计算损失\n",
    "output = net(x)\n",
    "loss = criterion(output,target)\n",
    "\n",
    "# 反向传播\n",
    "loss.backward()\n",
    "\n",
    "# 更新参数，完成训练\n",
    "optimizer.step()"
   ]
  },
  {
   "cell_type": "markdown",
   "metadata": {},
   "source": [
    "#### 数据加载和预处理\n",
    "数据预处理往往繁琐。PyTorch 提供了极大简化数据处理流程的工具。对常用数据集，pytorch 也提供了封装好的接口。  \n",
    "这些常用数据集保存在 torchvison 中，包括 imagenet，cifar10，mnist 等。同时提供常用的数据转换操作，方便加载数据。"
   ]
  },
  {
   "cell_type": "markdown",
   "metadata": {},
   "source": [
    "### Cifar-10 分类"
   ]
  },
  {
   "cell_type": "markdown",
   "metadata": {},
   "source": [
    "步骤：\n",
    "1. 使用 torchvision 准备 cifar 数据集\n",
    "2. 定义网络\n",
    "3. 定义损失函数和优化器\n",
    "4. 训练网络\n",
    "5. 测试网络"
   ]
  },
  {
   "cell_type": "markdown",
   "metadata": {},
   "source": [
    "#### 准备数据集"
   ]
  },
  {
   "cell_type": "code",
   "execution_count": 48,
   "metadata": {},
   "outputs": [],
   "source": [
    "import torchvision as tv\n",
    "import torchvision.transforms as transforms\n",
    "from torchvision.transforms import ToPILImage\n",
    "show = ToPILImage()"
   ]
  },
  {
   "cell_type": "code",
   "execution_count": 38,
   "metadata": {},
   "outputs": [
    {
     "name": "stdout",
     "output_type": "stream",
     "text": [
      "Files already downloaded and verified\n",
      "Files already downloaded and verified\n"
     ]
    }
   ],
   "source": [
    "transform = transforms.Compose([\n",
    "    transforms.ToTensor(),\n",
    "    transforms.Normalize((0.5,0.5,0.5),(0.5,0.5,0.5)),\n",
    "    \n",
    "])\n",
    "\n",
    "trainset = tv.datasets.CIFAR10(\n",
    "                        root = '/Users/Yang/Projects/pytorch-examples/',\n",
    "                        train = True,\n",
    "                        download = True,\n",
    "                        transform = transform)\n",
    "\n",
    "trainloader = t.utils.data.DataLoader(\n",
    "                            trainset,\n",
    "                            batch_size = 4,\n",
    "                            shuffle = True,\n",
    "                            num_workers = 2)\n",
    "\n",
    "testset = tv.datasets.CIFAR10(\n",
    "                        root = '/Users/Yang/Projects/pytorch-examples/',\n",
    "                        train = False,\n",
    "                        download = True,\n",
    "                        transform = transform)\n",
    "\n",
    "testloader = t.utils.data.DataLoader(\n",
    "                            testset,\n",
    "                            batch_size = 4,\n",
    "                            shuffle = False,\n",
    "                            num_workers = 2)\n",
    "\n",
    "classes = ('plane', 'car', 'bird', 'cat',\n",
    "          'deer', 'dog', 'frog', 'horse', 'ship', 'truck')"
   ]
  },
  {
   "cell_type": "markdown",
   "metadata": {},
   "source": [
    "**Dataset** 是一个数据集，可以按下标访问，返回形如（data，label）的数据。"
   ]
  },
  {
   "cell_type": "code",
   "execution_count": 39,
   "metadata": {},
   "outputs": [
    {
     "name": "stdout",
     "output_type": "stream",
     "text": [
      "ship\n"
     ]
    },
    {
     "data": {
      "image/png": "[encoded data removed]",
      "text/plain": [
       "<PIL.Image.Image image mode=RGB size=100x100 at 0x11D86A3C8>"
      ]
     },
     "execution_count": 39,
     "metadata": {},
     "output_type": "execute_result"
    }
   ],
   "source": [
    "(data, label) = trainset[100]\n",
    "print(classes[label])\n",
    "show((data+1)/2).resize((100,100)) # （data+1）/2 是为了还原归一化的数据"
   ]
  },
  {
   "cell_type": "markdown",
   "metadata": {},
   "source": [
    "**Dataloader** 是一个可迭代的对象，用 iter(dataloader)来迭代，它将 dataset 返回的每一条数据拼接成一个 batch，并且多线程加速优化和数据打乱等操作。  \n",
    "当程序遍历 dataset 的所有数据之后，**Dataloader** 也完成了一次迭代。"
   ]
  },
  {
   "cell_type": "code",
   "execution_count": 50,
   "metadata": {},
   "outputs": [
    {
     "name": "stdout",
     "output_type": "stream",
     "text": [
      "ship        truck       horse       deer        \n"
     ]
    },
    {
     "name": "stderr",
     "output_type": "stream",
     "text": [
      "Exception ignored in: <bound method _DataLoaderIter.__del__ of <torch.utils.data.dataloader._DataLoaderIter object at 0x132572470>>\n",
      "Traceback (most recent call last):\n",
      "  File \"/Users/Yang/anaconda3/lib/python3.6/site-packages/torch/utils/data/dataloader.py\", line 349, in __del__\n",
      "    self._shutdown_workers()\n",
      "  File \"/Users/Yang/anaconda3/lib/python3.6/site-packages/torch/utils/data/dataloader.py\", line 328, in _shutdown_workers\n",
      "    self.worker_result_queue.get()\n",
      "  File \"/Users/Yang/anaconda3/lib/python3.6/multiprocessing/queues.py\", line 337, in get\n",
      "    return _ForkingPickler.loads(res)\n",
      "  File \"/Users/Yang/anaconda3/lib/python3.6/site-packages/torch/multiprocessing/reductions.py\", line 86, in rebuild_storage_filename\n",
      "    storage = cls._new_shared_filename(manager, handle, size)\n",
      "RuntimeError: Interrupted system call at /Users/soumith/minicondabuild3/conda-bld/pytorch_1524590658547/work/torch/lib/libshm/core.cpp:125\n"
     ]
    },
    {
     "data": {
      "image/png": "[encoded data removed]",
      "text/plain": [
       "<PIL.Image.Image image mode=RGB size=400x100 at 0x1325699B0>"
      ]
     },
     "execution_count": 50,
     "metadata": {},
     "output_type": "execute_result"
    }
   ],
   "source": [
    "dataiter = iter(trainloader)\n",
    "images, labels = dataiter.next()\n",
    "print(''.join('{:12s}'.format(classes[labels[j]]) for j in range(4)))\n",
    "show(tv.utils.make_grid((images + 1)/2)).resize((400,100))"
   ]
  },
  {
   "cell_type": "markdown",
   "metadata": {},
   "source": [
    "#### 定义网络"
   ]
  },
  {
   "cell_type": "code",
   "execution_count": 42,
   "metadata": {},
   "outputs": [
    {
     "name": "stdout",
     "output_type": "stream",
     "text": [
      "Net(\n",
      "  (conv1): Conv2d(3, 6, kernel_size=(5, 5), stride=(1, 1))\n",
      "  (conv2): Conv2d(6, 16, kernel_size=(5, 5), stride=(1, 1))\n",
      "  (fc1): Linear(in_features=400, out_features=120, bias=True)\n",
      "  (fc2): Linear(in_features=120, out_features=84, bias=True)\n",
      "  (fc3): Linear(in_features=84, out_features=10, bias=True)\n",
      ")\n"
     ]
    }
   ],
   "source": [
    "import torch.nn as nn\n",
    "import torch.nn.functional as F\n",
    "\n",
    "class Net(nn.Module):\n",
    "    def __init__(self):\n",
    "        super(Net, self).__init__()\n",
    "        \n",
    "        self.conv1 = nn.Conv2d(3,6,5)\n",
    "        self.conv2 = nn.Conv2d(6,16,5)\n",
    "        self.fc1 = nn.Linear(16*5*5,120)\n",
    "        self.fc2 = nn.Linear(120,84)\n",
    "        self.fc3 = nn.Linear(84,10)\n",
    "        \n",
    "    def forward(self, x):\n",
    "        x = F.max_pool2d(F.relu(self.conv1(x)), (2,2))\n",
    "        x = F.max_pool2d(F.relu(self.conv2(x)), (2,2))\n",
    "        x = x.view(x.size()[0],-1)\n",
    "        x = F.relu(self.fc1(x))\n",
    "        x = F.relu(self.fc2(x))\n",
    "        x = self.fc3(x)\n",
    "        return x\n",
    "\n",
    "net = Net()\n",
    "print(net)"
   ]
  },
  {
   "cell_type": "markdown",
   "metadata": {},
   "source": [
    "#### 定义损失函数和优化器"
   ]
  },
  {
   "cell_type": "code",
   "execution_count": 43,
   "metadata": {},
   "outputs": [],
   "source": [
    "from torch import optim\n",
    "\n",
    "# 损失函数\n",
    "criterion = nn.CrossEntropyLoss()\n",
    "\n",
    "# 优化器\n",
    "optimizer = optim.SGD(net.parameters(), lr = 0.01, momentum = 0.9)"
   ]
  },
  {
   "cell_type": "markdown",
   "metadata": {},
   "source": [
    "#### 训练网络\n",
    "所有网络的训练都类似，不断执行如下步骤：\n",
    "* 输入数据\n",
    "* 前向传播+反向传播\n",
    "* 更新参数"
   ]
  },
  {
   "cell_type": "code",
   "execution_count": 83,
   "metadata": {},
   "outputs": [
    {
     "name": "stderr",
     "output_type": "stream",
     "text": [
      "/Users/Yang/anaconda3/lib/python3.6/site-packages/ipykernel_launcher.py:25: UserWarning: invalid index of a 0-dim tensor. This will be an error in PyTorch 0.5. Use tensor.item() to convert a 0-dim tensor to a Python number\n"
     ]
    },
    {
     "name": "stdout",
     "output_type": "stream",
     "text": [
      "[01,02000] running_loss: 1.993144\n",
      "[01,04000] running_loss: 1.991228\n",
      "[01,06000] running_loss: 1.962957\n",
      "[01,08000] running_loss: 1.965428\n",
      "[01,10000] running_loss: 1.991568\n",
      "[01,12000] running_loss: 2.001227\n",
      "[02,02000] running_loss: 1.965204\n",
      "[02,04000] running_loss: 1.973732\n",
      "[02,06000] running_loss: 1.962937\n",
      "[02,08000] running_loss: 1.973731\n",
      "[02,10000] running_loss: 1.995240\n",
      "[02,12000] running_loss: 1.983467\n",
      "[03,02000] running_loss: 1.962625\n",
      "[03,04000] running_loss: 1.958908\n",
      "[03,06000] running_loss: 1.969214\n",
      "[03,08000] running_loss: 1.959746\n",
      "[03,10000] running_loss: 2.000824\n",
      "[03,12000] running_loss: 2.000196\n",
      "[04,02000] running_loss: 1.940816\n",
      "[04,04000] running_loss: 1.990356\n",
      "[04,06000] running_loss: 1.982000\n",
      "[04,08000] running_loss: 1.987174\n",
      "[04,10000] running_loss: 1.991394\n",
      "[04,12000] running_loss: 1.994304\n",
      "[05,02000] running_loss: 1.972126\n",
      "[05,04000] running_loss: 1.967053\n",
      "[05,06000] running_loss: 1.966588\n",
      "[05,08000] running_loss: 1.972973\n",
      "[05,10000] running_loss: 1.973499\n",
      "[05,12000] running_loss: 1.972260\n",
      "[06,02000] running_loss: 1.981253\n",
      "[06,04000] running_loss: 1.983943\n",
      "[06,06000] running_loss: 1.989885\n",
      "[06,08000] running_loss: 2.029926\n",
      "[06,10000] running_loss: 1.974852\n",
      "[06,12000] running_loss: 1.986775\n",
      "[07,02000] running_loss: 1.986772\n",
      "[07,04000] running_loss: 1.999222\n",
      "[07,06000] running_loss: 1.971766\n",
      "[07,08000] running_loss: 1.989136\n",
      "[07,10000] running_loss: 1.976660\n",
      "[07,12000] running_loss: 1.961043\n",
      "[08,02000] running_loss: 1.987878\n",
      "[08,04000] running_loss: 2.015052\n",
      "[08,06000] running_loss: 2.003480\n",
      "[08,08000] running_loss: 1.982731\n",
      "[08,10000] running_loss: 2.034810\n",
      "[08,12000] running_loss: 2.088085\n",
      "[09,02000] running_loss: 2.009669\n",
      "[09,04000] running_loss: 1.996748\n",
      "[09,06000] running_loss: 2.007253\n",
      "[09,08000] running_loss: 1.971351\n",
      "[09,10000] running_loss: 1.974245\n",
      "[09,12000] running_loss: 2.016499\n",
      "[10,02000] running_loss: 1.999625\n",
      "[10,04000] running_loss: 1.998367\n",
      "[10,06000] running_loss: 1.975884\n",
      "[10,08000] running_loss: 2.028560\n",
      "[10,10000] running_loss: 2.133274\n",
      "[10,12000] running_loss: 2.017117\n",
      "Training is completed.\n"
     ]
    }
   ],
   "source": [
    "t.set_num_threads(8)\n",
    "\n",
    "num_epoch = 10\n",
    "\n",
    "for epoch in range(num_epoch):\n",
    "    \n",
    "    running_loss = 0.0\n",
    "    \n",
    "    for i, data in enumerate(trainloader,0):\n",
    "        \n",
    "        images, labels = data\n",
    "        images, labels = Variable(images), Variable(labels)\n",
    "        \n",
    "        # 参数归零\n",
    "        optimizer.zero_grad()\n",
    "        \n",
    "        # 前向+反向\n",
    "        output = net(images)\n",
    "        loss = criterion(output, labels)\n",
    "        loss.backward()\n",
    "        \n",
    "        # 更新参数\n",
    "        optimizer.step()\n",
    "        \n",
    "        running_loss += loss.data[0]\n",
    "        \n",
    "        if i % 2000 == 1999:\n",
    "            print('[{:02d},{:05d}] running_loss: {:05f}'.format(epoch + 1,\n",
    "                                                        i + 1,\n",
    "                                                        running_loss / 2000))\n",
    "            running_loss = 0.0\n",
    "\n",
    "print('Training is completed.')"
   ]
  },
  {
   "cell_type": "markdown",
   "metadata": {},
   "source": [
    "#### 测试网络"
   ]
  },
  {
   "cell_type": "code",
   "execution_count": 84,
   "metadata": {},
   "outputs": [
    {
     "name": "stdout",
     "output_type": "stream",
     "text": [
      "correct label:   cat       ship      ship      plane     \n"
     ]
    },
    {
     "data": {
      "image/png": "[encoded data removed]",
      "text/plain": [
       "<PIL.Image.Image image mode=RGB size=400x100 at 0x13258D320>"
      ]
     },
     "execution_count": 84,
     "metadata": {},
     "output_type": "execute_result"
    }
   ],
   "source": [
    "dataiter = iter(testloader)\n",
    "images, labels = dataiter.next()\n",
    "print('correct label:  ',''.join('{:10s}'.format(classes[labels[j]]) for j in range(4)))\n",
    "show(tv.utils.make_grid((images + 1)/2)).resize((400,100))\n"
   ]
  },
  {
   "cell_type": "markdown",
   "metadata": {},
   "source": [
    "Test result on a batch"
   ]
  },
  {
   "cell_type": "code",
   "execution_count": 85,
   "metadata": {},
   "outputs": [
    {
     "name": "stdout",
     "output_type": "stream",
     "text": [
      "predicted label:  cat       ship      ship      ship      \n"
     ]
    }
   ],
   "source": [
    "output = net(images)\n",
    "_,predicted = t.max(output.data,1)\n",
    "print('predicted label: ',''.join('{:10s}'.format(classes[predicted[j]]) for j in range(4)))"
   ]
  },
  {
   "cell_type": "markdown",
   "metadata": {},
   "source": [
    "Test result on train dataset"
   ]
  },
  {
   "cell_type": "code",
   "execution_count": 86,
   "metadata": {},
   "outputs": [
    {
     "name": "stdout",
     "output_type": "stream",
     "text": [
      "Test accuracy = 23.430000%, total images = 10000, epochs = 10\n"
     ]
    }
   ],
   "source": [
    "correct = 0\n",
    "total = 0\n",
    "\n",
    "for data in testloader:\n",
    "    images, labels = data\n",
    "    output = net(Variable(images)) # net 只能处理 Variables\n",
    "    _, predicted = t.max(output.data,1) # 从 ouput 这个 Variable 里提取出 data\n",
    "    correct += (predicted == labels).sum() \n",
    "    # 注意，correct 是个 tensor，稍后用correct.double()转换成数字\n",
    "    total += labels.size(0)\n",
    "\n",
    "print('Test accuracy = {:02f}%, total images = {:05d}, epochs = {}'.format(\n",
    "                                                                    correct.double()/total*100,\n",
    "                                                                    total,\n",
    "                                                                    num_epoch))"
   ]
  },
  {
   "cell_type": "markdown",
   "metadata": {},
   "source": [
    "#### 总结\n",
    "1. tensor：类似 numpy 数组的数据结构\n",
    "2. autograd：tensor 能自动求导\n",
    "3. nn：专门为神经网络提供的接口，提供神经网络层，优化器，损失函数等\n",
    "4. 神经网络训练：以 cifar-10为例演示了训练流程，包括数据加载，网络搭建，训练和测试。"
   ]
  },
  {
   "cell_type": "code",
   "execution_count": null,
   "metadata": {},
   "outputs": [],
   "source": []
  }
 ],
 "metadata": {
  "kernelspec": {
   "display_name": "Python 3",
   "language": "python",
   "name": "python3"
  },
  "language_info": {
   "codemirror_mode": {
    "name": "ipython",
    "version": 3
   },
   "file_extension": ".py",
   "mimetype": "text/x-python",
   "name": "python",
   "nbconvert_exporter": "python",
   "pygments_lexer": "ipython3",
   "version": "3.6.5"
  }
 },
 "nbformat": 4,
 "nbformat_minor": 2
}
