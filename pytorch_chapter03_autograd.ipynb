{
 "cells": [
  {
   "cell_type": "markdown",
   "metadata": {},
   "source": [
    "## 3.2 autograd\n",
    "手动实现反向传播费时费力。autograd 能根据输入和前向过程自动构建计算图，并执行反向传播。  \n",
    "关于计算图，详见 Christopher Olah 的[文章](http://colah.github.io/posts/2015-08-Backprop)"
   ]
  },
  {
   "cell_type": "markdown",
   "metadata": {},
   "source": [
    "### 3.2.1 Variable\n",
    "最新版 pytorch 文档显示，现在已不需要 `Variable(tensor)` 。用常规方法生成的 tensor 只要声明 `requires_grad = True` 就可以自动获得 variable 的身份，可以求导了。"
   ]
  },
  {
   "cell_type": "code",
   "execution_count": 2,
   "metadata": {},
   "outputs": [],
   "source": [
    "from __future__ import print_function\n",
    "import torch as t"
   ]
  },
  {
   "cell_type": "code",
   "execution_count": 3,
   "metadata": {},
   "outputs": [
    {
     "data": {
      "text/plain": [
       "tensor([[ 1.,  1.,  1.,  1.],\n",
       "        [ 1.,  1.,  1.,  1.],\n",
       "        [ 1.,  1.,  1.,  1.]])"
      ]
     },
     "execution_count": 3,
     "metadata": {},
     "output_type": "execute_result"
    }
   ],
   "source": [
    "a = t.ones((3,4), requires_grad = True)\n",
    "a"
   ]
  },
  {
   "cell_type": "code",
   "execution_count": 4,
   "metadata": {},
   "outputs": [],
   "source": [
    "b = t.zeros((3,4), requires_grad=True)"
   ]
  },
  {
   "cell_type": "code",
   "execution_count": 5,
   "metadata": {},
   "outputs": [
    {
     "data": {
      "text/plain": [
       "tensor([[ 1.,  1.,  1.,  1.],\n",
       "        [ 1.,  1.,  1.,  1.],\n",
       "        [ 1.,  1.,  1.,  1.]])"
      ]
     },
     "execution_count": 5,
     "metadata": {},
     "output_type": "execute_result"
    }
   ],
   "source": [
    "c = a + b\n",
    "c"
   ]
  },
  {
   "cell_type": "code",
   "execution_count": 6,
   "metadata": {},
   "outputs": [
    {
     "data": {
      "text/plain": [
       "tensor(12.)"
      ]
     },
     "execution_count": 6,
     "metadata": {},
     "output_type": "execute_result"
    }
   ],
   "source": [
    "d = c.sum()\n",
    "d.backward()\n",
    "d"
   ]
  },
  {
   "cell_type": "code",
   "execution_count": 7,
   "metadata": {},
   "outputs": [
    {
     "data": {
      "text/plain": [
       "tensor([[ 1.,  1.,  1.,  1.],\n",
       "        [ 1.,  1.,  1.,  1.],\n",
       "        [ 1.,  1.,  1.,  1.]])"
      ]
     },
     "execution_count": 7,
     "metadata": {},
     "output_type": "execute_result"
    }
   ],
   "source": [
    "a.grad"
   ]
  },
  {
   "cell_type": "code",
   "execution_count": 8,
   "metadata": {},
   "outputs": [
    {
     "data": {
      "text/plain": [
       "(True, True, True)"
      ]
     },
     "execution_count": 8,
     "metadata": {},
     "output_type": "execute_result"
    }
   ],
   "source": [
    "a.requires_grad, b.requires_grad, c.requires_grad"
   ]
  },
  {
   "cell_type": "code",
   "execution_count": 9,
   "metadata": {},
   "outputs": [
    {
     "data": {
      "text/plain": [
       "(True, True, False)"
      ]
     },
     "execution_count": 9,
     "metadata": {},
     "output_type": "execute_result"
    }
   ],
   "source": [
    "a.is_leaf, b.is_leaf, c.is_leaf"
   ]
  },
  {
   "cell_type": "code",
   "execution_count": 10,
   "metadata": {},
   "outputs": [
    {
     "data": {
      "text/plain": [
       "True"
      ]
     },
     "execution_count": 10,
     "metadata": {},
     "output_type": "execute_result"
    }
   ],
   "source": [
    "c.grad is None"
   ]
  },
  {
   "cell_type": "code",
   "execution_count": 11,
   "metadata": {},
   "outputs": [],
   "source": [
    "def f(x):\n",
    "    return x**2*t.exp(x)\n",
    "\n",
    "def gradf(x):\n",
    "    dx = 2*x*t.exp(x) + x**2*t.exp(x)\n",
    "    return dx"
   ]
  },
  {
   "cell_type": "code",
   "execution_count": 12,
   "metadata": {},
   "outputs": [
    {
     "data": {
      "text/plain": [
       "tensor([[ 0.5167,  0.0792,  1.7355,  0.3216],\n",
       "        [ 0.4098,  0.6665,  0.9990,  0.2035],\n",
       "        [ 2.8812,  0.5357,  0.0344,  0.5248]])"
      ]
     },
     "execution_count": 12,
     "metadata": {},
     "output_type": "execute_result"
    }
   ],
   "source": [
    "x = t.randn((3,4), requires_grad = True)\n",
    "y = f(x)\n",
    "y"
   ]
  },
  {
   "cell_type": "code",
   "execution_count": 13,
   "metadata": {},
   "outputs": [
    {
     "data": {
      "text/plain": [
       "tensor([[-0.1298,  0.7164,  5.7815, -0.4085],\n",
       "        [-0.3209,  2.8746,  3.8402, -0.4606],\n",
       "        [ 8.5332,  0.0513,  0.4383, -0.1044]])"
      ]
     },
     "execution_count": 13,
     "metadata": {},
     "output_type": "execute_result"
    }
   ],
   "source": [
    "y.backward(t.ones(y.shape))\n",
    "x.grad"
   ]
  },
  {
   "cell_type": "code",
   "execution_count": 14,
   "metadata": {},
   "outputs": [
    {
     "data": {
      "text/plain": [
       "tensor([[-0.1298,  0.7164,  5.7815, -0.4085],\n",
       "        [-0.3209,  2.8746,  3.8402, -0.4606],\n",
       "        [ 8.5332,  0.0513,  0.4383, -0.1044]])"
      ]
     },
     "execution_count": 14,
     "metadata": {},
     "output_type": "execute_result"
    }
   ],
   "source": [
    "gradf(x)"
   ]
  },
  {
   "cell_type": "markdown",
   "metadata": {},
   "source": [
    "### 3.2.2 计算图\n",
    "autograd 底层采用了计算图，是一种有向无环图，用于记录算子和变量之间的关系。  \n",
    "autograd 会随着用户的操作，记录对当前 tensor 的所有操作，由此建立一个有向无环图。"
   ]
  },
  {
   "cell_type": "markdown",
   "metadata": {},
   "source": [
    "#### 下面我们推理反向传播计算图"
   ]
  },
  {
   "cell_type": "markdown",
   "metadata": {},
   "source": [
    "<img src = 'imgs/com_graph_backward.png' style = 'width:200px;height:300px;float:left'>  "
   ]
  },
  {
   "cell_type": "code",
   "execution_count": 15,
   "metadata": {},
   "outputs": [],
   "source": [
    "x = t.ones(1)\n",
    "b = t.rand((1),requires_grad = True)\n",
    "w = t.rand((1),requires_grad = True)\n",
    "y = w * x\n",
    "z = y + b"
   ]
  },
  {
   "cell_type": "code",
   "execution_count": 16,
   "metadata": {},
   "outputs": [
    {
     "data": {
      "text/plain": [
       "(False, True, True)"
      ]
     },
     "execution_count": 16,
     "metadata": {},
     "output_type": "execute_result"
    }
   ],
   "source": [
    "x.requires_grad, b.requires_grad, w.requires_grad"
   ]
  },
  {
   "cell_type": "code",
   "execution_count": 17,
   "metadata": {},
   "outputs": [
    {
     "data": {
      "text/plain": [
       "<AddBackward1 at 0x7ff91efcf860>"
      ]
     },
     "execution_count": 17,
     "metadata": {},
     "output_type": "execute_result"
    }
   ],
   "source": [
    "# 查看该 tensor 的反向传播函数\n",
    "z.grad_fn"
   ]
  },
  {
   "cell_type": "code",
   "execution_count": 18,
   "metadata": {},
   "outputs": [
    {
     "data": {
      "text/plain": [
       "((<MulBackward1 at 0x7ff91efcf978>, 0),\n",
       " (<AccumulateGrad at 0x7ff91efcf438>, 0))"
      ]
     },
     "execution_count": 18,
     "metadata": {},
     "output_type": "execute_result"
    }
   ],
   "source": [
    "z.grad_fn.next_functions"
   ]
  },
  {
   "cell_type": "code",
   "execution_count": 19,
   "metadata": {},
   "outputs": [
    {
     "data": {
      "text/plain": [
       "True"
      ]
     },
     "execution_count": 19,
     "metadata": {},
     "output_type": "execute_result"
    }
   ],
   "source": [
    "z.grad_fn.next_functions[0][0] == y.grad_fn"
   ]
  },
  {
   "cell_type": "code",
   "execution_count": 20,
   "metadata": {},
   "outputs": [
    {
     "data": {
      "text/plain": [
       "((<AccumulateGrad at 0x7ff91efcfa90>, 0), (None, 0))"
      ]
     },
     "execution_count": 20,
     "metadata": {},
     "output_type": "execute_result"
    }
   ],
   "source": [
    "y.grad_fn.next_functions"
   ]
  },
  {
   "cell_type": "code",
   "execution_count": 21,
   "metadata": {},
   "outputs": [
    {
     "data": {
      "text/plain": [
       "(None, None)"
      ]
     },
     "execution_count": 21,
     "metadata": {},
     "output_type": "execute_result"
    }
   ],
   "source": [
    "w.grad_fn, x.grad_fn"
   ]
  },
  {
   "cell_type": "code",
   "execution_count": 22,
   "metadata": {},
   "outputs": [
    {
     "data": {
      "text/plain": [
       "tensor([ 1.])"
      ]
     },
     "execution_count": 22,
     "metadata": {},
     "output_type": "execute_result"
    }
   ],
   "source": [
    "z.backward(retain_graph = True)\n",
    "w.grad"
   ]
  },
  {
   "cell_type": "markdown",
   "metadata": {},
   "source": [
    "pytorch 使用的是**动态图**，它的计算图在每次前向传播时都是从头开始构建，所以能够使用 for，if 等语句根据需求创建计算图。这意味着你不需要事先构建所有可能用到的途径，因为图在运行时才构建。"
   ]
  },
  {
   "cell_type": "code",
   "execution_count": 23,
   "metadata": {},
   "outputs": [
    {
     "name": "stdout",
     "output_type": "stream",
     "text": [
      "tensor([ 1.])\n"
     ]
    }
   ],
   "source": [
    "def abs(x):\n",
    "    if x.data[0] > 0: return x\n",
    "    else: return -x\n",
    "x = t.ones((1), requires_grad = True)\n",
    "y = abs(x)\n",
    "y.backward()\n",
    "print(x.grad)"
   ]
  },
  {
   "cell_type": "code",
   "execution_count": 25,
   "metadata": {},
   "outputs": [
    {
     "name": "stdout",
     "output_type": "stream",
     "text": [
      "None\n"
     ]
    }
   ],
   "source": [
    "x = -1*t.ones((1), requires_grad = True)\n",
    "y = abs(x)\n",
    "y.backward()\n",
    "print(x.grad)"
   ]
  },
  {
   "cell_type": "markdown",
   "metadata": {},
   "source": [
    "#### 注意\n",
    "pytorch 文档已经把 Variable 列为“过时”，以后不需要用 `Variable(tensor)` 来对 tensor 使用 autograd，因为这样得到的结果是个 tensor。直接创建 tensor，即可 autograd。  \n",
    "我已在教程页面提交 issue。  \n",
    "作者已回复，表示下一版会修改。"
   ]
  },
  {
   "cell_type": "code",
   "execution_count": 26,
   "metadata": {},
   "outputs": [
    {
     "data": {
      "text/plain": [
       "tensor([ 1.])"
      ]
     },
     "execution_count": 26,
     "metadata": {},
     "output_type": "execute_result"
    }
   ],
   "source": [
    "x = t.ones(1, requires_grad = True)\n",
    "w = t.rand(1, requires_grad = True)\n",
    "y = x * w\n",
    "y.backward()\n",
    "x.data\n"
   ]
  },
  {
   "cell_type": "markdown",
   "metadata": {},
   "source": [
    "#### 计算图特点总结\n"
   ]
  },
  {
   "cell_type": "markdown",
   "metadata": {},
   "source": [
    "* 由用户创建的节点成为叶子节点 `is_leaf` ，其梯度是累加的。\n",
    "* tensor 默认不需要求导。手动设置 `requires_grad = True` 或者用 `x.requires_grad_()` 之后，所有依赖于这个 tensor 的节点都可以求导。\n",
    "* 非叶子节点的梯度计算完后即被清空，如需获取值可以使用 autograd.grad 或 hook 技术。\n",
    "* 对 tensor 的修改才能被记录，避免直接修改 tensor.data，因为这样修改无法被计算图记录。"
   ]
  },
  {
   "cell_type": "markdown",
   "metadata": {},
   "source": [
    "#### 扩展 autograd \n",
    "略。"
   ]
  },
  {
   "cell_type": "markdown",
   "metadata": {},
   "source": [
    "### 3.2.4 再试牛刀——用 autograd backward 实现线性回归（弃用教程里的 Variable 方法）"
   ]
  },
  {
   "cell_type": "markdown",
   "metadata": {},
   "source": [
    "#### 准备数据"
   ]
  },
  {
   "cell_type": "code",
   "execution_count": 28,
   "metadata": {},
   "outputs": [],
   "source": [
    "import torch as t\n",
    "import matplotlib.pyplot as plt\n",
    "from IPython import display"
   ]
  },
  {
   "cell_type": "code",
   "execution_count": 29,
   "metadata": {},
   "outputs": [],
   "source": [
    "t.manual_seed(1000)\n",
    "\n",
    "def get_fake_data(batch_size = 20):\n",
    "    x = t.randn((batch_size,1), requires_grad = True) * 10\n",
    "    y = 2 * x + 3 + t.randn(batch_size,1) * 4 # true w = 2, b = 3\n",
    "    return x,y"
   ]
  },
  {
   "cell_type": "code",
   "execution_count": 30,
   "metadata": {},
   "outputs": [
    {
     "data": {
      "text/plain": [
       "<matplotlib.collections.PathCollection at 0x7ff9131a81d0>"
      ]
     },
     "execution_count": 30,
     "metadata": {},
     "output_type": "execute_result"
    },
    {
     "data": {
      "image/png": "[encoded data removed]",
      "text/plain": [
       "<Figure size 432x288 with 1 Axes>"
      ]
     },
     "metadata": {},
     "output_type": "display_data"
    }
   ],
   "source": [
    "x,y = get_fake_data() # x,y are tensors that can be taken grad\n",
    "plt.scatter(x.squeeze().data,y.squeeze().data, color = 'k')"
   ]
  },
  {
   "cell_type": "markdown",
   "metadata": {},
   "source": [
    "#### 计算损失，自动求导，更新参数"
   ]
  },
  {
   "cell_type": "code",
   "execution_count": 31,
   "metadata": {},
   "outputs": [
    {
     "data": {
      "image/png": "[encoded data removed]",
      "text/plain": [
       "<Figure size 432x288 with 1 Axes>"
      ]
     },
     "metadata": {},
     "output_type": "display_data"
    },
    {
     "name": "stdout",
     "output_type": "stream",
     "text": [
      "training is completed.\n",
      "predicted: w = 2.049903, b = 3.177377\n",
      "true:      w = 2.000000, b = 3.000000\n"
     ]
    }
   ],
   "source": [
    "# 初始化参数 w 和 b\n",
    "w = t.rand((1,1), requires_grad = True)\n",
    "b = t.zeros((1,1), requires_grad = True)\n",
    "\n",
    "# 学习率，轮数\n",
    "lr = 0.001     # lr>特定值则出现梯度爆炸，loss 趋于无穷大。为什么？\n",
    "epochs = 20000\n",
    "\n",
    "# 开始训练\n",
    "for epoch in range(epochs):\n",
    "\n",
    "    # 前向\n",
    "    y_predicted = x.mm(w) + b.expand_as(y)\n",
    "    \n",
    "    # 计算损失\n",
    "    loss = 0.5 * (y - y_predicted) ** 2\n",
    "    loss = loss.sum()\n",
    "    \n",
    "    # 用 autograd 自动求梯度\n",
    "    loss.backward()\n",
    "    \n",
    "    # 更新参数\n",
    "    w.data.sub_(lr * w.grad.data)\n",
    "    b.data.sub_(lr * b.grad.data)\n",
    "    \n",
    "    # 注意每次反向传播前，要将梯度归零\n",
    "    w.grad.data.zero_()\n",
    "    b.grad.data.zero_()\n",
    "    \n",
    "    # 画图\n",
    "    if epoch % 2 == 1 and epoch <= 200:\n",
    "        \n",
    "        print('epoch: {}, loss: {}'.format(epoch,loss))\n",
    "        \n",
    "        # 抹去前一步输出，重新画图\n",
    "        display.clear_output(wait = True)\n",
    "        \n",
    "        # 生成用于画图的数据\n",
    "        xd = t.arange(-20,20).view(-1,1)\n",
    "        yd = xd.mm(w) + b.expand_as(xd)\n",
    "        \n",
    "        # 画出回归线\n",
    "        plt.plot(xd.data.numpy(),yd.data.numpy(),color = 'k')\n",
    "        \n",
    "        # 画出原始数据\n",
    "        plt.scatter(x.squeeze().data, y.squeeze().data, color = 'r')\n",
    "        \n",
    "        plt.xlim(-20,20)\n",
    "        plt.ylim(-30,30)\n",
    "        plt.show()\n",
    "        plt.pause(0.05)\n",
    "        \n",
    "print('training is completed.')\n",
    "\n",
    "print('predicted: w = {:03f}, b = {:03f}'.format(w.squeeze(), b.squeeze()))\n",
    "print('true:      w = {:03f}, b = {:03f}'.format(2,3))"
   ]
  },
  {
   "cell_type": "code",
   "execution_count": null,
   "metadata": {},
   "outputs": [],
   "source": []
  }
 ],
 "metadata": {
  "kernelspec": {
   "display_name": "Python 3",
   "language": "python",
   "name": "python3"
  },
  "language_info": {
   "codemirror_mode": {
    "name": "ipython",
    "version": 3
   },
   "file_extension": ".py",
   "mimetype": "text/x-python",
   "name": "python",
   "nbconvert_exporter": "python",
   "pygments_lexer": "ipython3",
   "version": "3.6.5"
  }
 },
 "nbformat": 4,
 "nbformat_minor": 2
}
